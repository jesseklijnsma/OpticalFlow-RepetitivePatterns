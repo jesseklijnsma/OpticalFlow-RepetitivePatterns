{
 "cells": [
  {
   "cell_type": "code",
   "execution_count": null,
   "id": "9ff18277",
   "metadata": {},
   "outputs": [],
   "source": [
    "import os\n",
    "import sys\n",
    "import subprocess\n",
    "from pathlib import Path"
   ]
  },
  {
   "cell_type": "code",
   "execution_count": null,
   "id": "a8cf3999",
   "metadata": {},
   "outputs": [],
   "source": [
    "processed_dir = Path(\"processed2\")\n",
    "raw_dir = Path(\"raw2\")\n",
    "\n",
    "processed_dir.mkdir(exist_ok=True)"
   ]
  },
  {
   "cell_type": "code",
   "execution_count": null,
   "id": "8971e3af",
   "metadata": {},
   "outputs": [],
   "source": [
    "for file in raw_dir.iterdir():\n",
    "    if file.suffix.lower() in [\".mp4\", \".mov\"]:\n",
    "        output_file = processed_dir / file.with_suffix('.mp4').name\n",
    "        filter_str = (\n",
    "            \"crop='ih*3.3333:ih:(iw-ih*3.3333)/2:0',\"\n",
    "            \"scale=1280:384\"\n",
    "        )\n",
    "        cmd = [\n",
    "            \"ffmpeg\",\n",
    "            \"-i\", str(file),\n",
    "            \"-vf\", filter_str,\n",
    "            \"-c:a\", \"copy\",\n",
    "            str(output_file)\n",
    "        ]\n",
    "        print(f\"Processing {file.name}...\")\n",
    "        result = subprocess.run(cmd, stdout=subprocess.PIPE, stderr=subprocess.PIPE)\n",
    "        if result.returncode != 0:\n",
    "            print(result.stderr.decode())"
   ]
  },
  {
   "cell_type": "code",
   "execution_count": null,
   "id": "ec3f5f32",
   "metadata": {},
   "outputs": [],
   "source": []
  }
 ],
 "metadata": {
  "kernelspec": {
   "display_name": "Python 3",
   "language": "python",
   "name": "python3"
  },
  "language_info": {
   "codemirror_mode": {
    "name": "ipython",
    "version": 3
   },
   "file_extension": ".py",
   "mimetype": "text/x-python",
   "name": "python",
   "nbconvert_exporter": "python",
   "pygments_lexer": "ipython3",
   "version": "3.11.9"
  }
 },
 "nbformat": 4,
 "nbformat_minor": 5
}
